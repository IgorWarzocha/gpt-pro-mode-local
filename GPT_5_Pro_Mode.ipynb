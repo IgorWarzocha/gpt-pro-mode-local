{
  "nbformat": 4,
  "nbformat_minor": 0,
  "metadata": {
    "colab": {
      "provenance": [],
      "authorship_tag": "ABX9TyPuSsEO/jRgEgk6xVqY9VRT",
      "include_colab_link": true
    },
    "kernelspec": {
      "name": "python3",
      "display_name": "Python 3"
    },
    "language_info": {
      "name": "python"
    }
  },
  "cells": [
    {
      "cell_type": "markdown",
      "metadata": {
        "id": "view-in-github",
        "colab_type": "text"
      },
      "source": [
        "<a href=\"https://colab.research.google.com/github/mshumer/gpt-pro-mode/blob/main/GPT_5_Pro_Mode.ipynb\" target=\"_parent\"><img src=\"https://colab.research.google.com/assets/colab-badge.svg\" alt=\"Open In Colab\"/></a>"
      ]
    },
    {
      "cell_type": "markdown",
      "source": [
        "Made by Matt Shumer ([@mattshumer_](https://x.com/mattshumer_) on X). Part of the [gpt-pro-mode](https://github.com/mshumer/gpt-pro-mode) repo."
      ],
      "metadata": {
        "id": "3LLlSvTtU0Y3"
      }
    },
    {
      "cell_type": "code",
      "execution_count": null,
      "metadata": {
        "id": "dzWS8LaqUw3N",
        "cellView": "form"
      },
      "outputs": [],
      "source": [
        "# @title Run To Set Up Pro Mode (OpenAI Responses API, GPT-5)\n",
        "!pip -q install openai\n",
        "\n",
        "from typing import List, Dict, Any\n",
        "import time, os\n",
        "import concurrent.futures as cf\n",
        "from openai import OpenAI\n",
        "\n",
        "MODEL = \"gpt-5\"\n",
        "MAX_OUTPUT_TOKENS = 30000  # total generated tokens cap for each call\n",
        "\n",
        "def _extract_text(resp) -> str:\n",
        "    \"\"\"Robustly extract text from a Responses API result.\"\"\"\n",
        "    # Most SDKs expose this convenience field:\n",
        "    if hasattr(resp, \"output_text\") and resp.output_text:\n",
        "        return resp.output_text\n",
        "    # Fallback: manually concatenate any text parts\n",
        "    parts: List[str] = []\n",
        "    for item in getattr(resp, \"output\", []) or []:\n",
        "        for c in getattr(item, \"content\", []) or []:\n",
        "            if getattr(c, \"type\", None) in (\"output_text\", \"text\"):\n",
        "                parts.append(getattr(c, \"text\", \"\"))\n",
        "    return \"\".join(parts).strip()\n",
        "\n",
        "def _one_completion(client: OpenAI, prompt: str, temperature: float) -> str:\n",
        "    \"\"\"Single non-streaming completion with simple retry/backoff.\"\"\"\n",
        "    delay = 0.5\n",
        "    for attempt in range(3):\n",
        "        try:\n",
        "            resp = client.responses.create(\n",
        "                model=MODEL,\n",
        "                input=prompt,                 # plain text input\n",
        "                temperature=temperature,      # 0.9 for candidates; 0.2 for synthesis\n",
        "                top_p=1,\n",
        "                max_output_tokens=MAX_OUTPUT_TOKENS,\n",
        "            )\n",
        "            return _extract_text(resp)\n",
        "        except Exception as e:\n",
        "            if attempt == 2:\n",
        "                raise\n",
        "            time.sleep(delay)\n",
        "            delay *= 2\n",
        "\n",
        "def _build_synthesis_inputs(candidates: List[str]) -> tuple[str, str]:\n",
        "    \"\"\"Returns (instructions, user_input) for a synthesis pass.\"\"\"\n",
        "    numbered = \"\\n\\n\".join(\n",
        "        f\"<cand {i+1}>\\n{txt}\\n</cand {i+1}>\" for i, txt in enumerate(candidates)\n",
        "    )\n",
        "    instructions = (\n",
        "        \"You are an expert editor. Synthesize ONE best answer from the candidate \"\n",
        "        \"answers provided, merging strengths, correcting errors, and removing repetition. \"\n",
        "        \"Do not mention the candidates or the synthesis process. Be decisive and clear.\"\n",
        "    )\n",
        "    user = (\n",
        "        f\"You are given {len(candidates)} candidate answers delimited by <cand i> tags.\\n\\n\"\n",
        "        f\"{numbered}\\n\\nReturn the single best final answer.\"\n",
        "    )\n",
        "    return instructions, user\n",
        "\n",
        "def pro_mode(prompt: str, n_runs: int, openai_api_key: str | None = None) -> Dict[str, Any]:\n",
        "    \"\"\"\n",
        "    Fan out n_runs parallel generations at T=0.9 and synthesize a final answer at T=0.2.\n",
        "    If openai_api_key is provided, it will be used; otherwise OPENAI_API_KEY env var is used.\n",
        "    Returns: {\"final\": str, \"candidates\": List[str]}\n",
        "    \"\"\"\n",
        "    assert n_runs >= 1, \"n_runs must be >= 1\"\n",
        "    if openai_api_key:\n",
        "        os.environ[\"OPENAI_API_KEY\"] = openai_api_key\n",
        "    client = OpenAI()\n",
        "\n",
        "    # Parallel candidate generations (threaded; Colab-friendly)\n",
        "    max_workers = min(n_runs, 16)\n",
        "    candidates: List[str] = [\"\"] * n_runs  # preserve order\n",
        "    with cf.ThreadPoolExecutor(max_workers=max_workers) as ex:\n",
        "        fut_to_idx = {\n",
        "            ex.submit(_one_completion, client, prompt, 0.9): i\n",
        "            for i in range(n_runs)\n",
        "        }\n",
        "        for fut in cf.as_completed(fut_to_idx):\n",
        "            i = fut_to_idx[fut]\n",
        "            candidates[i] = fut.result()\n",
        "\n",
        "    # Synthesis pass (use Responses API \"instructions\" as the system prompt)\n",
        "    instructions, user = _build_synthesis_inputs(candidates)\n",
        "    final_resp = client.responses.create(\n",
        "        model=MODEL,\n",
        "        instructions=instructions,\n",
        "        input=user,\n",
        "        temperature=0.2,\n",
        "        top_p=1,\n",
        "        max_output_tokens=MAX_OUTPUT_TOKENS,\n",
        "    )\n",
        "    final = _extract_text(final_resp)\n",
        "\n",
        "    return {\"final\": final, \"candidates\": candidates}\n"
      ]
    },
    {
      "cell_type": "code",
      "source": [
        "PROMPT = \"Explain self-play in reinforcement learning with a concrete example.\"\n",
        "NUMBER_OF_CANDIDATES = 5\n",
        "OPENAI_API_KEY = \"YOUR KEY HERE\"\n",
        "\n",
        "result = pro_mode(PROMPT, NUMBER_OF_CANDIDATES, openai_api_key=OPENAI_API_KEY)\n",
        "\n",
        "print(\"\\n=== FINAL ===\\n\", result[\"final\"])\n",
        "# To inspect candidates:\n",
        "# for i, c in enumerate(result[\"candidates\"], 1): print(f\"\\n--- Candidate {i} ---\\n{c}\")\n"
      ],
      "metadata": {
        "id": "OoBF5UbSVksz"
      },
      "execution_count": null,
      "outputs": []
    }
  ]
}