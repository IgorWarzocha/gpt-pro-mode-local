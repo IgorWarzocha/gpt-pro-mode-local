{
  "nbformat": 4,
  "nbformat_minor": 0,
  "metadata": {
    "colab": {
      "provenance": [],
      "authorship_tag": "ABX9TyPp/9gEfrqgOoQ4s1oFlgxh",
      "include_colab_link": true
    },
    "kernelspec": {
      "name": "python3",
      "display_name": "Python 3"
    },
    "language_info": {
      "name": "python"
    }
  },
  "cells": [
    {
      "cell_type": "markdown",
      "metadata": {
        "id": "view-in-github",
        "colab_type": "text"
      },
      "source": [
        "<a href=\"https://colab.research.google.com/github/mshumer/gpt-pro-mode/blob/main/NEMOTRON_Pro_Mode.ipynb\" target=\"_parent\"><img src=\"https://colab.research.google.com/assets/colab-badge.svg\" alt=\"Open In Colab\"/></a>"
      ]
    },
    {
      "cell_type": "markdown",
      "source": [
        "Made by Matt Shumer ([@mattshumer_](https://x.com/mattshumer_) on X)."
      ],
      "metadata": {
        "id": "8R6edf3Z-aF3"
      }
    },
    {
      "cell_type": "code",
      "execution_count": null,
      "metadata": {
        "id": "vKEGIzEt8jN4",
        "cellView": "form"
      },
      "outputs": [],
      "source": [
        "# @title Run this cell to set up Pro Mode (OpenRouter, Nemotron Nano 9B v2)\n",
        "!pip -q install --upgrade openai\n",
        "\n",
        "from typing import List, Dict, Any\n",
        "import time, os\n",
        "import concurrent.futures as cf\n",
        "import openai\n",
        "from openai import OpenAI\n",
        "\n",
        "MODEL = \"nvidia/nemotron-nano-9b-v2\"\n",
        "MAX_COMPLETION_TOKENS = 30000\n",
        "OPENROUTER_BASE_URL = \"https://openrouter.ai/api/v1\"\n",
        "\n",
        "# Optional attribution headers (set these env vars if you want leaderboard attribution):\n",
        "#   OR_HTTP_REFERER: e.g. \"https://yourapp.com\"\n",
        "#   OR_X_TITLE:      e.g. \"Your App Name\"\n",
        "_OR_ATTR_HEADERS: Dict[str, str] = {}\n",
        "if os.getenv(\"OR_HTTP_REFERER\"):\n",
        "    _OR_ATTR_HEADERS[\"HTTP-Referer\"] = os.getenv(\"OR_HTTP_REFERER\")\n",
        "if os.getenv(\"OR_X_TITLE\"):\n",
        "    _OR_ATTR_HEADERS[\"X-Title\"] = os.getenv(\"OR_X_TITLE\")\n",
        "\n",
        "def _make_client(openrouter_api_key: str | None = None) -> OpenAI:\n",
        "    \"\"\"\n",
        "    Create an OpenAI SDK client configured to talk to OpenRouter.\n",
        "    Priority: explicit arg > OPENROUTER_API_KEY env var.\n",
        "    \"\"\"\n",
        "    api_key = openrouter_api_key or os.getenv(\"OPENROUTER_API_KEY\")\n",
        "    if not api_key:\n",
        "        raise ValueError(\n",
        "            \"Missing OpenRouter API key. Pass openrouter_api_key=... or set OPENROUTER_API_KEY.\"\n",
        "        )\n",
        "    # default_headers is supported by openai>=1.0.0; safe to omit if empty.\n",
        "    return OpenAI(\n",
        "        base_url=OPENROUTER_BASE_URL,\n",
        "        api_key=api_key,\n",
        "        default_headers=_OR_ATTR_HEADERS if _OR_ATTR_HEADERS else None,\n",
        "    )\n",
        "\n",
        "def _one_completion(client: OpenAI, prompt: str, temperature: float, extra_headers: Dict[str, str] | None = None) -> str:\n",
        "    \"\"\"Single non-streaming completion with simple retry/backoff.\"\"\"\n",
        "    delay = 0.5\n",
        "    for attempt in range(3):\n",
        "        try:\n",
        "            resp = client.chat.completions.create(\n",
        "                model=MODEL,\n",
        "                messages=[{\"role\": \"user\", \"content\": prompt}],\n",
        "                temperature=temperature,          # 0.9 for candidates; 0.2 for synthesis\n",
        "                max_tokens=MAX_COMPLETION_TOKENS,\n",
        "                top_p=1,\n",
        "                stream=False,\n",
        "                # Pass attribution headers here too (harmless if None)\n",
        "                extra_headers=extra_headers\n",
        "            )\n",
        "            return resp.choices[0].message.content\n",
        "        except Exception as e:\n",
        "            if attempt == 2:\n",
        "                raise\n",
        "            time.sleep(delay)\n",
        "            delay *= 2\n",
        "\n",
        "def _build_synthesis_messages(candidates: List[str]) -> List[Dict[str, str]]:\n",
        "    numbered = \"\\n\\n\".join(\n",
        "        f\"\\n{txt}\\n\" for i, txt in enumerate(candidates)\n",
        "    )\n",
        "    system = (\n",
        "        \"You are an expert editor. Synthesize ONE best answer from the candidate \"\n",
        "        \"answers provided, merging strengths, correcting errors, and removing repetition. \"\n",
        "        \"Do not mention the candidates or the synthesis process. Be decisive and clear.\"\n",
        "    )\n",
        "    user = (\n",
        "        f\"You are given {len(candidates)} candidate answers delimited by whitespace.\\n\\n\"\n",
        "        f\"{numbered}\\n\\nReturn the single best final answer.\"\n",
        "    )\n",
        "    return [{\"role\": \"system\", \"content\": system},\n",
        "            {\"role\": \"user\", \"content\": user}]\n",
        "\n",
        "def pro_mode(prompt: str, n_runs: int, openrouter_api_key: str | None = None) -> Dict[str, Any]:\n",
        "    \"\"\"\n",
        "    Fan out n_runs parallel generations at T=0.9 and synthesize a final answer at T=0.2.\n",
        "    If openrouter_api_key is provided, it will be used; otherwise OPENROUTER_API_KEY env var is used.\n",
        "    Returns: {\"final\": str, \"candidates\": List[str]}\n",
        "    \"\"\"\n",
        "    assert n_runs >= 1, \"n_runs must be >= 1\"\n",
        "    client = _make_client(openrouter_api_key=openrouter_api_key)\n",
        "\n",
        "    # Parallel candidate generations (threaded; Colab-friendly)\n",
        "    max_workers = min(n_runs, 16)\n",
        "    candidates: List[str] = [None] * n_runs  # preserve order\n",
        "    with cf.ThreadPoolExecutor(max_workers=max_workers) as ex:\n",
        "        fut_to_idx = {\n",
        "            ex.submit(_one_completion, client, prompt, 0.9, _OR_ATTR_HEADERS if _OR_ATTR_HEADERS else None): i\n",
        "            for i in range(n_runs)\n",
        "        }\n",
        "        for fut in cf.as_completed(fut_to_idx):\n",
        "            i = fut_to_idx[fut]\n",
        "            candidates[i] = fut.result()\n",
        "\n",
        "    # Synthesis pass\n",
        "    messages = _build_synthesis_messages(candidates)\n",
        "    final_resp = client.chat.completions.create(\n",
        "        model=MODEL,\n",
        "        messages=messages,\n",
        "        temperature=0.2,\n",
        "        max_tokens=MAX_COMPLETION_TOKENS,\n",
        "        top_p=1,\n",
        "        stream=False,\n",
        "        extra_headers=_OR_ATTR_HEADERS if _OR_ATTR_HEADERS else None\n",
        "    )\n",
        "    final = final_resp.choices[0].message.content\n",
        "\n",
        "    return {\"final\": final, \"candidates\": candidates}"
      ]
    },
    {
      "cell_type": "code",
      "source": [
        "# Demo\n",
        "PROMPT = \"Explain self-play in reinforcement learning with a concrete example.\"\n",
        "NUMBER_OF_CANDIDATES = 5  # start with five, go up if you need more intelligence!\n",
        "OPENROUTER_API_KEY = \"YOUR KEY HERE\"  # or set the OPENROUTER_API_KEY env var\n",
        "\n",
        "result = pro_mode(PROMPT, NUMBER_OF_CANDIDATES, openrouter_api_key=OPENROUTER_API_KEY)\n",
        "\n",
        "print(\"\\n=== FINAL ===\\n\", result[\"final\"])\n",
        "# To inspect candidates:\n",
        "# for i, c in enumerate(result[\"candidates\"], 1): print(f\"\\n--- Candidate {i} ---\\n{c}\")"
      ],
      "metadata": {
        "id": "UGC80xtx9K0t"
      },
      "execution_count": null,
      "outputs": []
    }
  ]
}